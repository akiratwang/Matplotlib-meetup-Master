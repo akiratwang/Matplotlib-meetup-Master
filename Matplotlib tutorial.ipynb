{
 "cells": [
  {
   "cell_type": "markdown",
   "metadata": {},
   "source": [
    "# Data Visualisation with Matplotlib\n",
    "\n",
    "## Introduction to Matplotlib\n",
    "\n",
    "#### Learning Objectives\n",
    "- What is Matplotlib and why is it so useful?\n",
    "- Understand the structure of the matplot lib object, and how to use that to customize graphics\n",
    "- How to do basic plotting and visualisations (via Pandas)\n",
    "    - boxplots, barcharts, line plots, scatterplots, histograms\n",
    "- Learn about customising various aesthetics\n",
    "    - axes, labels, colour, legends, subplots\n",
    "- Challenge: try to make the most interesting plot with the most customisations!"
   ]
  },
  {
   "cell_type": "code",
   "execution_count": null,
   "metadata": {
    "collapsed": true
   },
   "outputs": [],
   "source": [
    "# Importing Numpy, Matplotlib and Pandas (with nicknames!) so that we can use them\n",
    "\n",
    "import pandas as pd\n",
    "import matplotlib as mpl\n",
    "import matplotlib.pyplot as plt\n",
    "import numpy as np\n",
    "\n",
    "# Making sure random number generators are consistent across the group\n",
    "np.random.seed(444)"
   ]
  },
  {
   "cell_type": "code",
   "execution_count": null,
   "metadata": {
    "collapsed": true
   },
   "outputs": [],
   "source": [
    "#show all our plots in the notebook\n",
    "%matplotlib inline"
   ]
  },
  {
   "cell_type": "markdown",
   "metadata": {},
   "source": [
    "#### But First, a quick review of the 2 classic Python Storage Structures\n",
    "- Lists\n",
    "- and dictionaries"
   ]
  },
  {
   "cell_type": "code",
   "execution_count": null,
   "metadata": {},
   "outputs": [],
   "source": [
    "example_list = [0,1,2,3,'4',['f','i','v','e']]\n",
    "\n",
    "#lets slice the list using integer indices\n",
    "print(example_list[0:4], 'Hey where is \"4\"?')\n",
    "\n"
   ]
  },
  {
   "cell_type": "markdown",
   "metadata": {},
   "source": [
    "### Dictionaries"
   ]
  },
  {
   "cell_type": "code",
   "execution_count": null,
   "metadata": {},
   "outputs": [],
   "source": [
    "example_dict = {'listname':'example_list'}\n",
    "\n",
    "#dictionaries are just lists where we name our indices\n",
    "print(example_dict['listname'])\n",
    "\n",
    "#and its hella easy to add new data to it\n",
    "example_dict['data'] = example_list\n",
    "\n",
    "print(example_dict.keys(), 'A method to give us all of the keys to our dictionary')\n",
    "\n",
    "# calling the key gives us the value, a list in this case\n",
    "example_dict['data']"
   ]
  },
  {
   "cell_type": "markdown",
   "metadata": {},
   "source": [
    "### Also, remember that Numpy arrays are just lists we can do maths with, but they can only store once kind of data (i.e. only integers)"
   ]
  },
  {
   "cell_type": "code",
   "execution_count": null,
   "metadata": {},
   "outputs": [],
   "source": [
    "a = np.array([5,1,6])\n",
    "b = np.array([7,8,9])\n",
    "a+b"
   ]
  },
  {
   "cell_type": "markdown",
   "metadata": {},
   "source": [
    "### One more thing, Methods - the special functions that our objects carry around with them\n",
    "\n",
    "syntax:\n",
    "```python\n",
    "object_name.method_name(extra arguments)\n",
    "```"
   ]
  },
  {
   "cell_type": "code",
   "execution_count": null,
   "metadata": {},
   "outputs": [],
   "source": [
    "test_list = ['p','l','o','t']\n",
    "print(test_list, ' before the sort')\n",
    "test_list.sort()\n",
    "print(test_list, \"see after the sort it has changed\")"
   ]
  },
  {
   "cell_type": "markdown",
   "metadata": {},
   "source": [
    "### So what is Matplotlib, and why do we use it?\n",
    "\n",
    "Matpotlib is one of the oldest, largest, and most widely used Python plotting package in use for static images.\n",
    "\n",
    "It was originally used as a way to lure MATLAB users over to the dark side of Python (we have cookies) - so the way the package can sometimes be more like MATLAB than the way we would normally try to use Python.\n",
    "\n",
    "Matplotlib contains many useful default options which can be quite handy for initial use, such as data exploration and getting a useful view of what's occurring. However, to get truly customisable you have to understand the nitty-gritty of how Matpotlib creates, and works with, different plotting objects.\n",
    "\n",
    "\n"
   ]
  },
  {
   "cell_type": "markdown",
   "metadata": {},
   "source": [
    "### The Matplotlib Object Hierarchy\n",
    "\n",
    "One thing that's quite important to learn about when you're learning Matplotlib is the concept of **object heirarchy**. \n",
    "\n",
    "\n",
    "As an example, take this one line matplotlib `plot` command:\n",
    "\n"
   ]
  },
  {
   "cell_type": "code",
   "execution_count": null,
   "metadata": {},
   "outputs": [],
   "source": [
    "plt.plot([1,2,4])\n",
    "\n",
    "# We have to tell matplotlib to \"show\" us the plot when we're finished\n",
    "plt.show()"
   ]
  },
  {
   "cell_type": "markdown",
   "metadata": {},
   "source": [
    "What I've done here is use the `plot` command to create a very simple line plot. We can see that the command has taken our list of values, `[1,2,4]` and used them to create the y-axis points, and automatically generated a list of x-axis values of `[0,1,2]`. "
   ]
  },
  {
   "cell_type": "markdown",
   "metadata": {},
   "source": [
    "But, this simple one-line command masks the fact that we've actually just generated a really complex heirarchy nested of Python objects, which can all be accessed and modified by us, the user. \n",
    "\n",
    "What this means is that each plot contains many different layers of objects, each of them linked in a tree-like pattern.\n",
    "\n",
    "A basic representation of this object heirarchy can be seen below. In matplotlib, a `figure` actually represents the whole graphic. This graphic can have multiple subplots, and at this level we can do things like specify how large the want to overall image to be, the figure title, .\n",
    "\n",
    "At the next level below that are the `axes`. We would typically think of these as the x-axis, or y-axis of a plot, but this is a misnomer. In matplotlib, the `axes` objects actually refer to each of the plots that exist within your overall figure. A single figure can have multiple different plots within it.\n"
   ]
  },
  {
   "cell_type": "markdown",
   "metadata": {},
   "source": [
    "\n",
    "![Image Hierarchy](matplotlib.png)\n",
    "\n",
    "Within your plot there are a bunch of different objects that can all be modified. This graphic below gives a basic overview of how to refer to each of these when looking for the relevant commands to modify them.\n",
    "\n",
    "![Image Hierarchy](anatomy1.png)\n",
    "\n",
    "Remember that we only can only ever manipulate **one** Figure or Axes object at a given time, and you don’t need to explicitly refer to it. If you have multiple subplots within your figure, then you will need to switch between different **axes** objects, or `ax`, to modify (or create) the different subplots in your figure."
   ]
  },
  {
   "cell_type": "markdown",
   "metadata": {},
   "source": [
    "## Matplotlib Plotting - how to create and access your Figure and Axes objects"
   ]
  },
  {
   "cell_type": "markdown",
   "metadata": {},
   "source": [
    "To start, we need to create our figure and axes objects. This can be done with a simple command,   \n",
    "`fig, ax = plt.subplots()`\n",
    "\n",
    "As you might imagine, `subplots()` allows you specify how many different plots you want within your figure. As we didn't pass any arguments to `subplots()` here, the default call is `subplots(nrows=1, ncols=1)`. Consequently, ax is only a *single* AxesSubplot object:"
   ]
  },
  {
   "cell_type": "code",
   "execution_count": null,
   "metadata": {
    "collapsed": true
   },
   "outputs": [],
   "source": [
    "fig, ax = plt.subplots()\n",
    "\n",
    "plt.show()"
   ]
  },
  {
   "cell_type": "markdown",
   "metadata": {},
   "source": [
    "how do we put data on this graph? using plotting methods\n",
    "\n",
    "```ax.plot()```"
   ]
  },
  {
   "cell_type": "code",
   "execution_count": null,
   "metadata": {
    "collapsed": true
   },
   "outputs": [],
   "source": [
    "t = np.arange(0.0, 5.0, 0.01)\n",
    "s = np.cos(2*np.pi*t)\n",
    "\n",
    "fig, ax = plt.subplots(figsize = (12,8))\n",
    "\n",
    "#creating the plot of t (x) vs s (y). You can specify line colour and shape using commands\n",
    "# such as \"r\" for red. lw = line width\n",
    "ax.plot(t,s, color = \"r\", lw=2)"
   ]
  },
  {
   "cell_type": "markdown",
   "metadata": {},
   "source": [
    "Note, there are a bunch of plotting methods that create different kinds of plots... more on that later"
   ]
  },
  {
   "cell_type": "markdown",
   "metadata": {},
   "source": [
    "### How do I be a good scientist and label my plots?\n",
    "*** There are methods for that too!!*** \n",
    "``` \n",
    "ax.set_xlabel() #gives you x axis labels\n",
    "ax.set_ylabel() #give you y axis labels\n",
    "ax.set_title() #lets you create a title\n",
    "ax.legend() #tells matplotlib to make a legend\n",
    "```\n",
    "the list goes on:\n",
    "https://matplotlib.org/api/axes_api.html#the-axes-class"
   ]
  },
  {
   "cell_type": "code",
   "execution_count": null,
   "metadata": {
    "collapsed": true
   },
   "outputs": [],
   "source": [
    "fig, ax = plt.subplots(figsize = (12,8))\n",
    "\n",
    "#recreating the figure from above\n",
    "ax.plot(t,s, color = \"r\", lw=2)\n",
    "\n",
    "#here we are using methods to add things on\n",
    "ax.set_xlabel('t')\n",
    "ax.set_ylabel('s')\n",
    "ax.set_title('axis title')\n",
    "ax.legend(['data'])"
   ]
  },
  {
   "cell_type": "markdown",
   "metadata": {},
   "source": [
    "#### what if I want multiple things?\n",
    "You can run as many plotting methods as you want one  a given axis, and it will plot things on top of the previous data"
   ]
  },
  {
   "cell_type": "code",
   "execution_count": null,
   "metadata": {
    "collapsed": true
   },
   "outputs": [],
   "source": [
    "fig, ax = plt.subplots(figsize = (12,8))\n",
    "\n",
    "#recreating the figure from above\n",
    "ax.plot(t,s, color = \"r\", lw=2)\n",
    "\n",
    "#we are now adding a second plot to the same axis\n",
    "\n",
    "ax.plot(t+0.5,s,color='b')\n",
    "\n",
    "#here we are using methods to add things on\n",
    "ax.set_xlabel('t')\n",
    "ax.set_ylabel('s')\n",
    "ax.set_title('axis title')\n",
    "ax.legend(['data','shifted data'])"
   ]
  },
  {
   "cell_type": "markdown",
   "metadata": {},
   "source": [
    "###  Some other plotting methods Scatterplots"
   ]
  },
  {
   "cell_type": "code",
   "execution_count": null,
   "metadata": {
    "collapsed": true
   },
   "outputs": [],
   "source": [
    "N = 50\n",
    "x = np.random.rand(N)\n",
    "y = np.random.rand(N)\n",
    "# Creating area for the marker size \n",
    "area = np.pi * (15 * np.random.rand(N))**2 # 0 to 15 point radiuses\n",
    "\n",
    "fig,ax = plt.subplots(figsize = (8,8))\n",
    "\n",
    "ax.scatter(x, y, s=area, alpha=0.5)\n",
    "plt.show()"
   ]
  },
  {
   "cell_type": "markdown",
   "metadata": {},
   "source": [
    "### There are too many plotting methods to teach, so lets learn how to figure one out:\n",
    "\n",
    "Look up https://matplotlib.org/api/_as_gen/matplotlib.axes.Axes.errorbar.html#matplotlib.axes.Axes.errorbar\n",
    "- plot t vs s, with a constant yerror bar of 0.1, and a constant x error bar of 0.2\n",
    "- then use a sample varying yerror bar with the  provided"
   ]
  },
  {
   "cell_type": "code",
   "execution_count": null,
   "metadata": {
    "collapsed": true
   },
   "outputs": [],
   "source": [
    "t = np.arange(0.0, 5.0, 0.1)\n",
    "s = np.cos(2*np.pi*t)\n",
    "constant_yerror = 0.1\n",
    "constant_xerror = 0.2\n",
    "Variable_yerror = s*0.15"
   ]
  },
  {
   "cell_type": "code",
   "execution_count": null,
   "metadata": {
    "collapsed": true
   },
   "outputs": [],
   "source": [
    "# alright have a play"
   ]
  },
  {
   "cell_type": "markdown",
   "metadata": {},
   "source": [
    "If we wanted to however, we could create multiple `axes` (_or plots_ - remember that! Axes = Plots) by simply giving `subplots` more arguments.\n",
    "\n",
    "`fig, ax = plt.subplots(nrows = 1,ncols = 3)` would allow me to create a figure that contains a single row of plots, with 3 different plots in different columns."
   ]
  },
  {
   "cell_type": "code",
   "execution_count": null,
   "metadata": {
    "collapsed": true
   },
   "outputs": [],
   "source": [
    "fig, (ax1, ax2, ax3) = plt.subplots(nrows = 1,ncols = 3) #, figsize=(12, 5)) #Can also specify the size of the figure!\n",
    "\n",
    "plt.show()"
   ]
  },
  {
   "cell_type": "markdown",
   "metadata": {},
   "source": [
    "What this has done here is created a Figure object and a 1x3 NumPy array of `Axes` objects."
   ]
  },
  {
   "cell_type": "markdown",
   "metadata": {},
   "source": [
    "Let's illustrate how you can manipulate your different `axes` using a stacked area graph of three time series:"
   ]
  },
  {
   "cell_type": "code",
   "execution_count": null,
   "metadata": {
    "collapsed": true
   },
   "outputs": [],
   "source": [
    "# Data\n",
    "rng = np.arange(50)\n",
    "rnd = np.random.randint(0, 10, size=(3, rng.size))\n",
    "yrs = 1950 + rng"
   ]
  },
  {
   "cell_type": "code",
   "execution_count": null,
   "metadata": {
    "collapsed": true
   },
   "outputs": [],
   "source": [
    "# Plotting\n",
    "fig, (ax1, ax2)= plt.subplots(nrows = 1,ncols = 2, figsize=(12, 5)) #Can also specify the size of the figure!\n",
    "\n",
    "# Make me a stacked area graph using yrs on the x-axis, rng + rnd as the Y-axis, \n",
    "# and label each stack with these names\n",
    "ax1.stackplot(yrs, rng + rnd, labels=['Eastasia', 'Eurasia', 'Oceania'])\n",
    "\n",
    "# Set the title of that plot\n",
    "ax1.set_title('Combined debt growth over time')\n",
    "\n",
    "# Create a legend, and tell it where to go\n",
    "ax1.legend(loc='upper left')\n",
    "\n",
    "# Set a label for the x- and y-axis\n",
    "ax1.set_ylabel('Total debt')\n",
    "ax1.set_xlabel('Years')\n",
    "\n",
    "#Change the range of the x-axis so that there's no extra whitespace\n",
    "ax1.set_xlim(xmin=yrs[0], xmax=yrs[-1])\n",
    "\n",
    "\n",
    "plt.show()"
   ]
  },
  {
   "cell_type": "markdown",
   "metadata": {},
   "source": [
    "Then, if I wanted to access the second Axes object to create a different graph, I can set the `ax` object to be my second plot using `ax = ax[1]`"
   ]
  },
  {
   "cell_type": "code",
   "execution_count": null,
   "metadata": {
    "collapsed": true
   },
   "outputs": [],
   "source": [
    "# Previous code for the left hand axis\n",
    "fig, (ax1, ax2) = plt.subplots(nrows = 1,ncols = 2, figsize=(12, 5))\n",
    "\n",
    "ax1.stackplot(yrs, rng + rnd, labels=['Eastasia', 'Eurasia', 'Oceania'])\n",
    "ax1.set_title('Combined debt growth over time')\n",
    "ax1.legend(loc='upper left')\n",
    "ax1.set_ylabel('Total debt')\n",
    "ax1.set_xlabel('Years')\n",
    "ax1.set_xlim(xmin=yrs[0], xmax=yrs[-1])\n",
    "\n",
    "# New code for the right hand axis\n",
    "ax2.plot(yrs, rng + rnd[0], color = 'red', linewidth=1.5,ls = \"--\" )\n",
    "ax2.set_title('Combined Debt Growth of Eastasia')\n",
    "ax2.set_ylabel('Total Debt')\n",
    "ax2.set_xlabel('Years')\n",
    "ax2.set_xlim(xmin=yrs[0], xmax=yrs[-1])\n",
    "\n",
    "plt.show()"
   ]
  },
  {
   "cell_type": "code",
   "execution_count": null,
   "metadata": {
    "collapsed": true
   },
   "outputs": [],
   "source": [
    "fig, ax = plt.subplots(nrows = 2,ncols = 2, figsize=(10, 6)) \n",
    "print(type(ax))# now we have a 2x2 numpy axes array\n",
    "ax1, ax2, ax3, ax4 = ax.flatten() #flattening the 2D array into a 1D array that we can now use like before\n",
    "\n",
    "ax1.set_title(\"Axes 1\")\n",
    "ax2.set_title(\"Axes 2\")\n",
    "ax3.set_title(\"Axes 3\")\n",
    "ax4.set_title(\"Axes 4\")\n",
    "\n",
    "fig.tight_layout() #fit the subplots into the figure area (12,5)\n",
    "\n",
    "#plt.show()"
   ]
  },
  {
   "cell_type": "markdown",
   "metadata": {},
   "source": [
    "..... that empty figure looks sad doesnt it? Lets fill it up with something\n",
    "### Challenge 1: Plot the following random data in four different ways in the following subplots"
   ]
  },
  {
   "cell_type": "code",
   "execution_count": null,
   "metadata": {
    "collapsed": true
   },
   "outputs": [],
   "source": [
    "# numpy has a pretty nice function to upload files\n",
    "\n",
    "x = rando_data[1]\n",
    "y = rando_data[10]\n",
    "z= rando_data[15]"
   ]
  },
  {
   "cell_type": "markdown",
   "metadata": {},
   "source": [
    "go to this website: https://matplotlib.org/api/axes_api.html#basic\n",
    "and choose 4 different plot types, an see what they do, plot any of the four data sets above (not rando data is 2d, whereas X, Y, and Z are 1d arrays and the same length, so they can be plotted against each other\n",
    "- add axis labels, and titles to each subplot\n",
    "- extra credit if you can figure out how to share the x axes"
   ]
  },
  {
   "cell_type": "code",
   "execution_count": null,
   "metadata": {
    "collapsed": true
   },
   "outputs": [],
   "source": [
    "fig2, ax2 = plt.subplots(nrows = 2,ncols = 2, figsize=(10, 6)) \n",
    "print(type(ax))# now we have a 2x2 numpy axes array\n",
    "ax1, ax2, ax3, ax4 = ax2.flatten() #flattening the 2D array into a 1D array that we can now use like before"
   ]
  },
  {
   "cell_type": "code",
   "execution_count": null,
   "metadata": {
    "collapsed": true
   },
   "outputs": [],
   "source": [
    "#fill it up\n",
    "#ax1.plot...."
   ]
  },
  {
   "cell_type": "markdown",
   "metadata": {},
   "source": [
    "## Plotting and Visualisations (with Pandas!)\n",
    "\n",
    "Pandas has it's own in-built plotting commands to interface with the the dataframe structures. This is because matplotlib is desgined to work with numpy arrays, so when passing it array-like structures, such as a series object (Pandas column) or a numpy nd-array, it can occassionally cause issues. \n",
    "\n",
    "To get around this, Pandas has added it's own wrapper to the matplotlib package. Essentially , Pandas plotting is matplotlib plotting, but with commands that are structured slightly differently, and cross-compatibility with dataframes. \n",
    "\n",
    "Most plotting methods have a set of keyword arguments that control the layout and formatting of the returned plot. For each kind of plot (e.g. line, bar, scatter) any additional arguments keywords are passed along to the corresponding matplotlib function (ax.plot(), ax.bar(), ax.scatter()). These can be used to control additional styling, beyond what pandas provides\n",
    "\n",
    "So, let's get into some data:"
   ]
  },
  {
   "cell_type": "code",
   "execution_count": null,
   "metadata": {},
   "outputs": [],
   "source": [
    "df = pd.read_csv(\"Automobile_price_data_clean.csv\")\n",
    "\n",
    "df.head()"
   ]
  },
  {
   "cell_type": "code",
   "execution_count": null,
   "metadata": {},
   "outputs": [],
   "source": [
    "df = pd.read_csv(\"Automobile_price_data_clean.csv\", na_values= '?')\n",
    "\n",
    "df.head()"
   ]
  },
  {
   "cell_type": "code",
   "execution_count": null,
   "metadata": {},
   "outputs": [],
   "source": [
    "df.dtypes"
   ]
  },
  {
   "cell_type": "code",
   "execution_count": null,
   "metadata": {
    "collapsed": true
   },
   "outputs": [],
   "source": [
    "df.describe()"
   ]
  },
  {
   "cell_type": "code",
   "execution_count": null,
   "metadata": {
    "collapsed": true
   },
   "outputs": [],
   "source": [
    "df.describe(include =  'all')"
   ]
  },
  {
   "cell_type": "markdown",
   "metadata": {},
   "source": [
    "### The easiest way to plot with pandas"
   ]
  },
  {
   "cell_type": "code",
   "execution_count": null,
   "metadata": {
    "collapsed": true
   },
   "outputs": [],
   "source": [
    "df.hist(column = 'price')"
   ]
  },
  {
   "cell_type": "markdown",
   "metadata": {},
   "source": [
    "Quick and dirty, and automatically does some of the formatting for you, but like plt.plot() we don't have any way to customize the figure afterwards"
   ]
  },
  {
   "cell_type": "code",
   "execution_count": null,
   "metadata": {
    "collapsed": true
   },
   "outputs": [],
   "source": [
    "#Easy solution\n",
    "hist_plot = df.hist(column = 'price')\n",
    "print(hist_plot)\n",
    "\n",
    "# It gives us a list of all the axes it created (1 in this instance) if we index them, we can manipulate the axes objects\n",
    "hist_plot[0][0].set_xlabel('price of car (USD)')\n",
    "hist_plot"
   ]
  },
  {
   "cell_type": "markdown",
   "metadata": {},
   "source": [
    "**The more thorough way** - making a figure, and using the keyword argument ```ax=``` in the pandas plotting command to draw your graph onto tha figure"
   ]
  },
  {
   "cell_type": "code",
   "execution_count": null,
   "metadata": {
    "collapsed": true
   },
   "outputs": [],
   "source": [
    "figh, axh = plt.subplots()\n",
    "\n",
    "df.hist(column = 'price', ax = axh)\n",
    "\n",
    "axh.set_xlabel('price of car (USD)')"
   ]
  },
  {
   "cell_type": "markdown",
   "metadata": {},
   "source": [
    "### More Plotting! Univariate Data\n",
    "\n",
    "Univariate data is where we have a single variable, or column. Plotting this data can take a few forms - boxplots, histograms, bar charts, and violin plots being the most common.\n",
    "\n",
    "#### Boxplots\n"
   ]
  },
  {
   "cell_type": "code",
   "execution_count": null,
   "metadata": {
    "collapsed": true
   },
   "outputs": [],
   "source": [
    "fig, ax = plt.subplots(figsize = (6,8))\n",
    "outliers = dict(markerfacecolor='r', marker='X')\n",
    "\n",
    "\n",
    "df[['engine-size','fuel-type']].boxplot(by = 'fuel-type', ax = ax, flierprops= outliers)#, vert = False)\n",
    "\n",
    "ax.set_title(\"Boxplots of Auto Engine Size by Fuel Type\") #title\n",
    "ax.set_xlabel(\"Fuel Type\") #x-axis label\n",
    "ax.set_ylabel(\"Engine Size\") #y-axis label\n",
    "\n",
    "plt.show()\n"
   ]
  },
  {
   "cell_type": "markdown",
   "metadata": {},
   "source": [
    "### Barplots\n",
    "\n",
    "As bar plots are for categorical data the first step is create counts for your data that you are actually able to plot"
   ]
  },
  {
   "cell_type": "code",
   "execution_count": null,
   "metadata": {
    "collapsed": true
   },
   "outputs": [],
   "source": [
    "counts = df['make'].value_counts() #find the count for each unique category\n",
    "counts"
   ]
  },
  {
   "cell_type": "code",
   "execution_count": null,
   "metadata": {
    "collapsed": true
   },
   "outputs": [],
   "source": [
    "# Another way of creating your figure and axes objects\n",
    "fig = plt.figure(figsize = (8,6))\n",
    "ax = fig.gca() #defining axis\n",
    "\n",
    "# Series.plot.bar - and on which axes we're plotting\n",
    "counts.plot.bar(ax = ax)\n",
    "\n",
    "ax.set_title(\"Number of auto cars by make\") #title\n",
    "ax.set_xlabel(\"Make\") #x-axis label\n",
    "ax.set_ylabel(\"Number of Autos\") #y-axis label\n",
    "\n",
    "plt.xticks(rotation=70)\n",
    "\n",
    "plt.show()"
   ]
  },
  {
   "cell_type": "code",
   "execution_count": null,
   "metadata": {
    "collapsed": true
   },
   "outputs": [],
   "source": [
    "fig, ax = plt.subplots(figsize = (12,5))\n",
    "\n",
    "df['engine-size'].plot.hist(ax = ax)#, bins = 30, alpha = 0.7)\n",
    "\n",
    "ax.set_title(\"Histogram of Auto Engine Size\") #title\n",
    "ax.set_xlabel(\"Engine Size\") #x-axis label\n",
    "ax.set_ylabel(\"Frequency/Number of Autos\") #y-axis label\n",
    "\n",
    "plt.show()"
   ]
  },
  {
   "cell_type": "markdown",
   "metadata": {},
   "source": [
    "### Bivariate data\n",
    "\n",
    "Where you're plotting two variables against one another"
   ]
  },
  {
   "cell_type": "markdown",
   "metadata": {},
   "source": [
    "### Line Plots\n",
    "\n",
    "Plotting a line plots is as simple as using the `plot()` command on the back of whichever data you're trying to plot."
   ]
  },
  {
   "cell_type": "code",
   "execution_count": null,
   "metadata": {
    "collapsed": true
   },
   "outputs": [],
   "source": [
    "size = df[[\"width\", \"wheel-base\",\"make\"]].groupby(by = 'make').mean()\n",
    "\n",
    "# Can specify the colours you want to be used (with US \"color\" spelling)\n",
    "size.plot(figsize=(12, 8), color = [\"red\",\"green\"]) # or use colormap if you have many labels\n",
    "\n",
    "# Pandas can automatically create the figure and axes objects when you use the plot command\n",
    "# To be able to access these to change various details though, you'll need to use the gca() and gcf() commands\n",
    "\n",
    "# gcf = \"get current figure\"\n",
    "fig = plt.gcf()\n",
    "# gca = \"get current axes\"\n",
    "ax = plt.gca()\n",
    "\n",
    "ax.set_title(\"Car Width and Wheel Base Size Across Different Models\")\n",
    "ax.set_xlabel(\"Car Models\")\n",
    "\n"
   ]
  },
  {
   "cell_type": "code",
   "execution_count": null,
   "metadata": {
    "collapsed": true
   },
   "outputs": [],
   "source": [
    "df.head()"
   ]
  },
  {
   "cell_type": "code",
   "execution_count": null,
   "metadata": {
    "collapsed": true
   },
   "outputs": [],
   "source": [
    "# Otherwise, you can use the original matplotlib commands to plot directly\n",
    "cost = df[['price','engine-size','horsepower']].sort_values(by = 'price')\n",
    "\n",
    "fig, ax = plt.subplots(figsize= (12,8))\n",
    "\n",
    "\n",
    "cost.plot(x = 'price', y = \"engine-size\", ax = ax)\n",
    "# Add another plot to the same plot\n",
    "cost.plot(x = 'price', y = 'horsepower', ax = ax) # Still the same axes object as before\n",
    "\n",
    "plt.show()"
   ]
  },
  {
   "cell_type": "markdown",
   "metadata": {},
   "source": [
    "### Suggestion, Make a plot with Seaborn, customize it with Matplotlib\n",
    "\n",
    "Seaborn is a library built with functions to make really nice Matplotlib plots, and do them quickly and easily... Let's see how a function works"
   ]
  },
  {
   "cell_type": "code",
   "execution_count": null,
   "metadata": {
    "collapsed": true
   },
   "outputs": [],
   "source": [
    "import seaborn as sns"
   ]
  },
  {
   "cell_type": "code",
   "execution_count": null,
   "metadata": {},
   "outputs": [],
   "source": [
    "huscatter = sns.scatterplot(x='engine-size', y = 'highway-mpg', hue = 'fuel-type'\n",
    "                , data=df)\n",
    "print(type(huscatter))\n",
    "\n",
    "huscatter.set_title('yo that is diesel')"
   ]
  },
  {
   "cell_type": "markdown",
   "metadata": {},
   "source": [
    "### Seaborn can do a lot with one line of code"
   ]
  },
  {
   "cell_type": "code",
   "execution_count": null,
   "metadata": {
    "scrolled": false
   },
   "outputs": [],
   "source": [
    "iris = pd.read_csv('iris.csv')\n",
    "iris.head()"
   ]
  },
  {
   "cell_type": "code",
   "execution_count": null,
   "metadata": {},
   "outputs": [],
   "source": [
    "sns.pairplot(iris, hue='species')"
   ]
  },
  {
   "cell_type": "code",
   "execution_count": null,
   "metadata": {
    "collapsed": true
   },
   "outputs": [],
   "source": []
  },
  {
   "cell_type": "code",
   "execution_count": null,
   "metadata": {
    "collapsed": true
   },
   "outputs": [],
   "source": []
  },
  {
   "cell_type": "markdown",
   "metadata": {},
   "source": [
    "### XKCD Style Plots - for a bit of fun\n",
    "\n",
    "Source: https://matplotlib.org/users/screenshots.html#bar-charts"
   ]
  },
  {
   "cell_type": "code",
   "execution_count": null,
   "metadata": {
    "collapsed": true
   },
   "outputs": [],
   "source": [
    "with plt.xkcd():\n",
    "    # Based on \"Stove Ownership\" from XKCD by Randall Monroe\n",
    "    # http://xkcd.com/418/\n",
    "\n",
    "    fig = plt.figure(facecolor=[1, 1, 1], figsize = (5,5))\n",
    "    \n",
    "    ax = fig.add_axes((0.1, 0.2, 0.8, 0.7))\n",
    "    ax.spines['right'].set_color('none')\n",
    "    ax.spines['top'].set_color('none')\n",
    "    plt.xticks([])\n",
    "    plt.yticks([])\n",
    "    ax.set_ylim([-30, 10])\n",
    "\n",
    "    data = np.ones(100)\n",
    "    data[70:] -= np.arange(30)\n",
    "\n",
    "    plt.annotate(\n",
    "        'THE DAY I REALIZED\\nI COULD COOK BACON\\nWHENEVER I WANTED',\n",
    "        xy=(70, 1), arrowprops=dict(arrowstyle='->'), xytext=(15, -10))\n",
    "\n",
    "    plt.plot(data)\n",
    "\n",
    "    plt.xlabel('time')\n",
    "    plt.ylabel('my overall health')\n",
    "    fig.text(\n",
    "        0.5, 0.05,\n",
    "        '\"Stove Ownership\" from xkcd by Randall Monroe',\n",
    "        ha='center')\n",
    "\n",
    "        # Based on \"The Data So Far\" from XKCD by Randall Monroe\n",
    "    # http://xkcd.com/373/\n",
    "\n",
    "    fig = plt.figure(facecolor=[1, 1, 1] )\n",
    "    ax = fig.add_axes((0.1, 0.2, 0.8, 0.7))\n",
    "    ax.bar([0, 1], [0, 100], 0.25)\n",
    "    ax.spines['right'].set_color('none')\n",
    "    ax.spines['top'].set_color('none')\n",
    "    ax.xaxis.set_ticks_position('bottom')\n",
    "    ax.set_xticks([0, 1])\n",
    "    ax.set_xlim([-0.5, 1.5])\n",
    "    ax.set_ylim([0, 110])\n",
    "    ax.set_xticklabels(['CONFIRMED BY\\nEXPERIMENT', 'REFUTED BY\\nEXPERIMENT'])\n",
    "    plt.yticks([])\n",
    "\n",
    "    plt.title(\"CLAIMS OF SUPERNATURAL POWERS\")\n",
    "\n",
    "    fig.text(\n",
    "        0.5, -0.05,\n",
    "        '\"The Data So Far\" from xkcd by Randall Monroe',\n",
    "        ha='center')\n",
    "    \n",
    "plt.show()\n",
    "\n"
   ]
  },
  {
   "cell_type": "markdown",
   "metadata": {},
   "source": [
    "## Challenge: Plotting arts and crafts\n",
    "\n",
    "Create your own, pretty plots with as many different customisations as you can find. You can find many of these on the MPL cheatsheets you've been given (and on the Github) feel free to use the Iris or cars dataset, or find your own\n",
    "\n",
    "Criteria for Plotting Arts adn Crafts. I want you guys to explore the datasets above and try something new\n",
    "- I want at least two subplots (two axes) with different kinds of graphs\n",
    "- plot two different things on each Axes object (so four pltos total between two axes)\n",
    "- Customize the colors and look\n",
    "- I want at least one annotation or text\n",
    "- Extra credit(have subplots share an axis)\n",
    "- Extra credit(save it as an .png or a.svg)\n",
    "- Extra Credit(start with a seaborn plot and edit it with matplotlib methods)"
   ]
  },
  {
   "cell_type": "code",
   "execution_count": null,
   "metadata": {
    "collapsed": true
   },
   "outputs": [],
   "source": []
  },
  {
   "cell_type": "code",
   "execution_count": null,
   "metadata": {
    "collapsed": true
   },
   "outputs": [],
   "source": []
  },
  {
   "cell_type": "code",
   "execution_count": null,
   "metadata": {
    "collapsed": true
   },
   "outputs": [],
   "source": []
  },
  {
   "cell_type": "code",
   "execution_count": null,
   "metadata": {
    "collapsed": true
   },
   "outputs": [],
   "source": []
  },
  {
   "cell_type": "code",
   "execution_count": null,
   "metadata": {
    "collapsed": true
   },
   "outputs": [],
   "source": []
  },
  {
   "cell_type": "code",
   "execution_count": null,
   "metadata": {
    "collapsed": true
   },
   "outputs": [],
   "source": []
  },
  {
   "cell_type": "markdown",
   "metadata": {},
   "source": [
    "#### External Resources\n",
    "\n",
    "**Tutorials**:\n",
    "- https://realpython.com/python-matplotlib-guide/\n",
    "- https://matplotlib.org/tutorials/introductory/pyplot.html\n",
    "- https://matplotlib.org/tutorials/index.html\n",
    "- https://www.datacamp.com/community/tutorials/matplotlib-tutorial-python\n",
    "\n",
    "**Documentation**\n",
    "- [Matplotlib FAQ Page](https://matplotlib.org/faq/usage_faq.html)\n",
    "- [User Guide](https://matplotlib.org/users/)\n",
    "- [Pandas Visualisation Tools](https://pandas.pydata.org/pandas-docs/stable/visualization.html)\n",
    "- [Matplotlib Gallery](https://matplotlib.org/gallery.html)\n",
    "\n"
   ]
  },
  {
   "cell_type": "markdown",
   "metadata": {},
   "source": [
    "### More Plotting examples"
   ]
  },
  {
   "cell_type": "markdown",
   "metadata": {},
   "source": [
    "### Histograms with annotations"
   ]
  },
  {
   "cell_type": "code",
   "execution_count": null,
   "metadata": {
    "collapsed": true,
    "scrolled": true
   },
   "outputs": [],
   "source": [
    "#Creating random data\n",
    "mu, sigma = 100, 15\n",
    "x = mu + sigma * np.random.randn(10000)\n",
    "\n",
    "# the histogram of the data\n",
    "n, bins, patches = plt.hist(x, 50, normed=1, facecolor='g', alpha=0.75)\n",
    "\n",
    "fig = plt.gcf()\n",
    "ax = plt.gca()\n",
    "\n",
    "\n",
    "ax.set_xlabel('Smarts')\n",
    "ax.set_ylabel('Probability')\n",
    "ax.set_title('Histogram of IQ')\n",
    "ax.text(60, .025, r'$\\mu=100,\\ \\sigma=15$')\n",
    "\n",
    "ax.axis([40, 160, 0, 0.03]) #[xmin, xmax, ymin, ymax]\n",
    "ax.grid(True)\n",
    "\n",
    "plt.show()"
   ]
  },
  {
   "cell_type": "code",
   "execution_count": null,
   "metadata": {
    "collapsed": true
   },
   "outputs": [],
   "source": [
    "t = np.arange(0.0, 5.0, 0.01)\n",
    "s = np.cos(2*np.pi*t)\n",
    "\n",
    "fig, ax = plt.subplots(figsize = (12,8))\n",
    "\n",
    "#creating the plot of t (x) vs s (y). You can specify line colour and shape using commands\n",
    "# such as \"r\" for red. lw = line width\n",
    "ax.plot(t,s, color = \"r\", lw=2)\n",
    "\n",
    "#adding an arrow to the plot\n",
    "plt.annotate('local max', xy=(2, 1), xytext=(3, 1.5),\n",
    "            arrowprops=dict(facecolor='black', shrink=0.05))\n",
    "\n",
    "#adding plot text\n",
    "plt.text(0.5, 1.2, r'y = $\\cos(2\\pi)$')\n",
    "\n",
    "#y-axis\n",
    "ax.set_ylim(-2,2)\n",
    "ax.set_xlim(0,5)\n",
    "\n",
    "plt.show()"
   ]
  },
  {
   "cell_type": "code",
   "execution_count": null,
   "metadata": {
    "collapsed": true
   },
   "outputs": [],
   "source": []
  },
  {
   "cell_type": "code",
   "execution_count": null,
   "metadata": {
    "collapsed": true
   },
   "outputs": [],
   "source": [
    "colx, coly = 'city-mpg', 'price'\n",
    "\n",
    "fig = plt.figure(figsize = (8, 6))\n",
    "ax = fig.gca() #defining axis\n",
    "\n",
    "df.plot(kind = 'scatter', x = colx, y = coly, ax = ax) #, s = 50, marker = 'x')\n",
    "\n",
    "ax.set_title(\"Scatterplot of Price vs MPG\") #title\n",
    "ax.set_xlabel(\"City MPG\") #x-axis label\n",
    "ax.set_ylabel(\"Auto Price\") #y-axis label\n",
    "\n",
    "\n",
    "# # Add correlation line - IFF IT'S A LINEAR RELATIONSHIP\n",
    "# axes = plt.gca()\n",
    "# m, b = np.polyfit(df[colx], df[coly], 1)\n",
    "# X_plot = np.linspace(axes.get_xlim()[0],axes.get_xlim()[1],100)\n",
    "# plt.plot(X_plot, m*X_plot + b, '-')\n",
    "\n",
    "plt.show()\n"
   ]
  },
  {
   "cell_type": "code",
   "execution_count": null,
   "metadata": {
    "collapsed": true
   },
   "outputs": [],
   "source": []
  },
  {
   "cell_type": "code",
   "execution_count": null,
   "metadata": {
    "collapsed": true
   },
   "outputs": [],
   "source": []
  },
  {
   "cell_type": "code",
   "execution_count": null,
   "metadata": {
    "collapsed": true
   },
   "outputs": [],
   "source": []
  },
  {
   "cell_type": "code",
   "execution_count": null,
   "metadata": {
    "collapsed": true
   },
   "outputs": [],
   "source": []
  }
 ],
 "metadata": {
  "kernelspec": {
   "display_name": "Python 3",
   "language": "python",
   "name": "python3"
  },
  "language_info": {
   "codemirror_mode": {
    "name": "ipython",
    "version": 3
   },
   "file_extension": ".py",
   "mimetype": "text/x-python",
   "name": "python",
   "nbconvert_exporter": "python",
   "pygments_lexer": "ipython3",
   "version": "3.6.3"
  },
  "toc": {
   "colors": {
    "hover_highlight": "#DAA520",
    "navigate_num": "#000000",
    "navigate_text": "#333333",
    "running_highlight": "#FF0000",
    "selected_highlight": "#FFD700",
    "sidebar_border": "#EEEEEE",
    "wrapper_background": "#FFFFFF"
   },
   "moveMenuLeft": true,
   "nav_menu": {
    "height": "49px",
    "width": "252px"
   },
   "navigate_menu": true,
   "number_sections": false,
   "sideBar": true,
   "threshold": 4,
   "toc_cell": false,
   "toc_position": {
    "height": "502px",
    "left": "0px",
    "right": "983.531px",
    "top": "135px",
    "width": "382px"
   },
   "toc_section_display": "block",
   "toc_window_display": true,
   "widenNotebook": false
  },
  "varInspector": {
   "cols": {
    "lenName": 16,
    "lenType": 16,
    "lenVar": 40
   },
   "kernels_config": {
    "python": {
     "delete_cmd_postfix": "",
     "delete_cmd_prefix": "del ",
     "library": "var_list.py",
     "varRefreshCmd": "print(var_dic_list())"
    },
    "r": {
     "delete_cmd_postfix": ") ",
     "delete_cmd_prefix": "rm(",
     "library": "var_list.r",
     "varRefreshCmd": "cat(var_dic_list()) "
    }
   },
   "types_to_exclude": [
    "module",
    "function",
    "builtin_function_or_method",
    "instance",
    "_Feature"
   ],
   "window_display": false
  }
 },
 "nbformat": 4,
 "nbformat_minor": 2
}
